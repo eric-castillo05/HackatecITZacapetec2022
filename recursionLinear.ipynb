{
 "cells": [
  {
   "cell_type": "code",
   "execution_count": 1,
   "metadata": {},
   "outputs": [],
   "source": [
    "import pandas as pd"
   ]
  },
  {
   "cell_type": "code",
   "execution_count": 2,
   "metadata": {},
   "outputs": [],
   "source": [
    "import seaborn as sns"
   ]
  },
  {
   "cell_type": "code",
   "execution_count": 3,
   "metadata": {},
   "outputs": [],
   "source": [
    "path = \"C:\\\\Users\\\\Castl\\\\Desktop\\\\Coding\\\\hacka\\\\pruebas\\\\comocaiga.csv\""
   ]
  },
  {
   "cell_type": "code",
   "execution_count": 4,
   "metadata": {},
   "outputs": [],
   "source": [
    "df = pd.read_csv(path)"
   ]
  },
  {
   "cell_type": "code",
   "execution_count": 5,
   "metadata": {},
   "outputs": [
    {
     "data": {
      "text/html": [
       "<div>\n",
       "<style scoped>\n",
       "    .dataframe tbody tr th:only-of-type {\n",
       "        vertical-align: middle;\n",
       "    }\n",
       "\n",
       "    .dataframe tbody tr th {\n",
       "        vertical-align: top;\n",
       "    }\n",
       "\n",
       "    .dataframe thead th {\n",
       "        text-align: right;\n",
       "    }\n",
       "</style>\n",
       "<table border=\"1\" class=\"dataframe\">\n",
       "  <thead>\n",
       "    <tr style=\"text-align: right;\">\n",
       "      <th></th>\n",
       "      <th>FECHA_ACTUALIZACION</th>\n",
       "      <th>ID_REGISTRO</th>\n",
       "      <th>ENTIDAD_REG</th>\n",
       "      <th>MUNICIPIO_REG</th>\n",
       "      <th>FECHA_DEFUNCION</th>\n",
       "      <th>FECHA_REGISTRO</th>\n",
       "      <th>SEXO</th>\n",
       "      <th>EDAD</th>\n",
       "    </tr>\n",
       "  </thead>\n",
       "  <tbody>\n",
       "    <tr>\n",
       "      <th>0</th>\n",
       "      <td>09/11/2020</td>\n",
       "      <td>z2ab80</td>\n",
       "      <td>10</td>\n",
       "      <td>12</td>\n",
       "      <td>13/09/2020</td>\n",
       "      <td>16/09/2020</td>\n",
       "      <td>2</td>\n",
       "      <td>68</td>\n",
       "    </tr>\n",
       "    <tr>\n",
       "      <th>1</th>\n",
       "      <td>09/11/2020</td>\n",
       "      <td>z4c512</td>\n",
       "      <td>21</td>\n",
       "      <td>74</td>\n",
       "      <td>19/08/2020</td>\n",
       "      <td>19/08/2020</td>\n",
       "      <td>2</td>\n",
       "      <td>64</td>\n",
       "    </tr>\n",
       "    <tr>\n",
       "      <th>2</th>\n",
       "      <td>09/11/2020</td>\n",
       "      <td>z1b582</td>\n",
       "      <td>21</td>\n",
       "      <td>132</td>\n",
       "      <td>30/07/2020</td>\n",
       "      <td>31/07/2020</td>\n",
       "      <td>1</td>\n",
       "      <td>69</td>\n",
       "    </tr>\n",
       "    <tr>\n",
       "      <th>3</th>\n",
       "      <td>09/11/2020</td>\n",
       "      <td>zz6f0e</td>\n",
       "      <td>21</td>\n",
       "      <td>194</td>\n",
       "      <td>02/09/2020</td>\n",
       "      <td>04/09/2020</td>\n",
       "      <td>2</td>\n",
       "      <td>71</td>\n",
       "    </tr>\n",
       "    <tr>\n",
       "      <th>4</th>\n",
       "      <td>09/11/2020</td>\n",
       "      <td>z5359f</td>\n",
       "      <td>21</td>\n",
       "      <td>208</td>\n",
       "      <td>06/08/2020</td>\n",
       "      <td>07/08/2020</td>\n",
       "      <td>2</td>\n",
       "      <td>23</td>\n",
       "    </tr>\n",
       "  </tbody>\n",
       "</table>\n",
       "</div>"
      ],
      "text/plain": [
       "  FECHA_ACTUALIZACION ID_REGISTRO  ENTIDAD_REG  MUNICIPIO_REG FECHA_DEFUNCION  \\\n",
       "0          09/11/2020      z2ab80           10             12      13/09/2020   \n",
       "1          09/11/2020      z4c512           21             74      19/08/2020   \n",
       "2          09/11/2020      z1b582           21            132      30/07/2020   \n",
       "3          09/11/2020      zz6f0e           21            194      02/09/2020   \n",
       "4          09/11/2020      z5359f           21            208      06/08/2020   \n",
       "\n",
       "  FECHA_REGISTRO  SEXO  EDAD  \n",
       "0     16/09/2020     2    68  \n",
       "1     19/08/2020     2    64  \n",
       "2     31/07/2020     1    69  \n",
       "3     04/09/2020     2    71  \n",
       "4     07/08/2020     2    23  "
      ]
     },
     "execution_count": 5,
     "metadata": {},
     "output_type": "execute_result"
    }
   ],
   "source": [
    "df.head()"
   ]
  },
  {
   "cell_type": "code",
   "execution_count": 20,
   "metadata": {},
   "outputs": [
    {
     "data": {
      "text/plain": [
       "<AxesSubplot:xlabel='FECHA_DEFUNCION', ylabel='EDAD'>"
      ]
     },
     "execution_count": 20,
     "metadata": {},
     "output_type": "execute_result"
    },
    {
     "data": {
      "image/png": "[encoded data removed]",
      "text/plain": [
       "<Figure size 432x288 with 1 Axes>"
      ]
     },
     "metadata": {
      "needs_background": "light"
     },
     "output_type": "display_data"
    }
   ],
   "source": [
    "sns.scatterplot(x='FECHA_DEFUNCION', y = 'EDAD', data = df)"
   ]
  },
  {
   "cell_type": "code",
   "execution_count": 7,
   "metadata": {},
   "outputs": [],
   "source": [
    "explicativas = df[['ENTIDAD_REG']]"
   ]
  },
  {
   "cell_type": "code",
   "execution_count": 8,
   "metadata": {},
   "outputs": [],
   "source": [
    "objetivo = df['EDAD']"
   ]
  },
  {
   "cell_type": "code",
   "execution_count": 9,
   "metadata": {},
   "outputs": [],
   "source": [
    "from sklearn.linear_model import LinearRegression"
   ]
  },
  {
   "cell_type": "code",
   "execution_count": 10,
   "metadata": {},
   "outputs": [],
   "source": [
    "model = LinearRegression()"
   ]
  },
  {
   "cell_type": "code",
   "execution_count": 11,
   "metadata": {},
   "outputs": [
    {
     "data": {
      "text/plain": [
       "sklearn.linear_model._base.LinearRegression"
      ]
     },
     "execution_count": 11,
     "metadata": {},
     "output_type": "execute_result"
    }
   ],
   "source": [
    "type(model)"
   ]
  },
  {
   "cell_type": "code",
   "execution_count": 12,
   "metadata": {},
   "outputs": [
    {
     "data": {
      "text/plain": [
       "LinearRegression()"
      ]
     },
     "execution_count": 12,
     "metadata": {},
     "output_type": "execute_result"
    }
   ],
   "source": [
    "model.fit(X=explicativas, y=objetivo)"
   ]
  },
  {
   "cell_type": "markdown",
   "metadata": {},
   "source": []
  },
  {
   "cell_type": "code",
   "execution_count": 13,
   "metadata": {},
   "outputs": [
    {
     "data": {
      "text/plain": [
       "{'fit_intercept': True,\n",
       " 'normalize': False,\n",
       " 'copy_X': True,\n",
       " 'n_jobs': None,\n",
       " 'n_features_in_': 1,\n",
       " 'coef_': array([-0.13097603]),\n",
       " '_residues': 116294.56867485945,\n",
       " 'rank_': 1,\n",
       " 'singular_': array([91.93700397]),\n",
       " 'intercept_': 69.22113813657039}"
      ]
     },
     "execution_count": 13,
     "metadata": {},
     "output_type": "execute_result"
    }
   ],
   "source": [
    "model.__dict__"
   ]
  },
  {
   "cell_type": "code",
   "execution_count": 14,
   "metadata": {},
   "outputs": [
    {
     "data": {
      "text/plain": [
       "array([67.9113778 , 66.47064142, 66.47064142, 66.47064142, 66.47064142,\n",
       "       67.9113778 , 67.9113778 , 66.47064142, 66.47064142, 66.47064142,\n",
       "       66.47064142, 66.47064142, 66.47064142, 66.47064142, 66.47064142,\n",
       "       66.47064142, 66.47064142, 65.02990505, 66.47064142, 67.9113778 ,\n",
       "       67.9113778 , 66.47064142, 67.9113778 , 66.47064142, 66.47064142,\n",
       "       67.9113778 , 68.56625797, 66.47064142, 67.9113778 , 67.9113778 ,\n",
       "       67.9113778 , 66.47064142, 66.47064142, 67.9113778 , 66.47064142,\n",
       "       68.3043059 , 68.56625797, 66.47064142, 66.47064142, 66.47064142,\n",
       "       67.9113778 , 66.47064142, 67.9113778 , 67.9113778 , 67.9113778 ,\n",
       "       67.9113778 , 67.9113778 , 68.56625797, 68.56625797, 66.47064142,\n",
       "       66.47064142, 66.47064142, 67.9113778 , 66.47064142, 66.47064142,\n",
       "       67.9113778 , 66.47064142, 65.55380919, 66.47064142, 66.73259349,\n",
       "       66.47064142, 66.47064142, 66.47064142, 66.47064142, 66.47064142,\n",
       "       66.47064142, 66.47064142, 66.47064142, 66.47064142, 66.47064142,\n",
       "       68.17332987, 68.56625797, 68.17332987, 66.47064142, 66.47064142,\n",
       "       68.17332987, 68.17332987, 65.94673729, 67.9113778 , 66.47064142,\n",
       "       66.47064142, 68.56625797, 66.47064142, 66.47064142, 68.56625797,\n",
       "       66.47064142, 67.5184497 , 66.47064142, 66.47064142, 66.47064142,\n",
       "       66.47064142, 66.47064142, 66.47064142, 66.47064142, 66.47064142,\n",
       "       67.9113778 , 66.47064142, 66.47064142, 66.47064142, 66.47064142,\n",
       "       68.56625797, 67.9113778 , 66.47064142, 65.94673729, 66.47064142,\n",
       "       66.47064142, 66.47064142, 66.47064142, 66.47064142, 66.47064142,\n",
       "       67.25649763, 65.94673729, 66.47064142, 66.47064142, 66.47064142,\n",
       "       68.3043059 , 66.47064142, 66.47064142, 66.47064142, 66.47064142,\n",
       "       66.47064142, 66.47064142, 66.47064142, 66.47064142, 66.47064142,\n",
       "       68.56625797, 66.47064142, 66.73259349, 67.5184497 , 67.9113778 ,\n",
       "       67.12552159, 66.73259349, 66.47064142, 66.47064142, 67.64942573,\n",
       "       68.3043059 , 65.68478522, 66.47064142, 66.47064142, 67.64942573,\n",
       "       66.47064142, 66.47064142, 66.47064142, 67.9113778 , 66.47064142,\n",
       "       67.9113778 , 68.3043059 , 67.9113778 , 65.94673729, 67.9113778 ,\n",
       "       66.47064142, 67.9113778 , 66.47064142, 66.47064142, 66.47064142,\n",
       "       66.47064142, 66.47064142, 68.697234  , 66.47064142, 66.47064142,\n",
       "       67.9113778 , 66.47064142, 66.47064142, 66.47064142, 66.47064142,\n",
       "       66.47064142, 66.47064142, 66.47064142, 66.86356953, 66.47064142,\n",
       "       66.47064142, 66.47064142, 66.47064142, 66.47064142, 68.95918607,\n",
       "       66.73259349, 66.47064142, 66.73259349, 66.47064142, 68.3043059 ,\n",
       "       66.47064142, 66.73259349, 66.47064142, 66.47064142, 66.47064142,\n",
       "       67.64942573, 66.47064142, 66.47064142, 66.47064142, 66.47064142,\n",
       "       66.47064142, 66.47064142, 66.47064142, 66.47064142, 66.47064142,\n",
       "       66.47064142, 65.55380919, 66.47064142, 66.47064142, 65.68478522,\n",
       "       66.47064142, 66.07771332, 66.47064142, 66.47064142, 66.47064142,\n",
       "       66.47064142, 66.47064142, 66.47064142, 66.47064142, 66.47064142,\n",
       "       66.47064142, 66.47064142, 66.47064142, 66.47064142, 66.47064142,\n",
       "       66.47064142, 66.99454556, 66.73259349, 66.47064142, 66.47064142,\n",
       "       68.3043059 , 66.47064142, 67.9113778 , 67.9113778 , 66.47064142,\n",
       "       66.47064142, 68.17332987, 68.56625797, 66.47064142, 66.47064142,\n",
       "       66.47064142, 66.47064142, 66.47064142, 66.47064142, 68.17332987,\n",
       "       65.94673729, 65.02990505, 68.3043059 , 66.47064142, 66.47064142,\n",
       "       66.47064142, 66.47064142, 66.47064142, 68.3043059 , 66.47064142,\n",
       "       66.47064142, 66.47064142, 67.5184497 , 66.47064142, 66.47064142,\n",
       "       66.07771332, 66.47064142])"
      ]
     },
     "execution_count": 14,
     "metadata": {},
     "output_type": "execute_result"
    }
   ],
   "source": [
    "model.predict(X=df[['ENTIDAD_REG']])"
   ]
  },
  {
   "cell_type": "code",
   "execution_count": 15,
   "metadata": {},
   "outputs": [],
   "source": [
    "y_pred = model.predict(X=df[['EDAD']])"
   ]
  },
  {
   "cell_type": "code",
   "execution_count": 130,
   "metadata": {},
   "outputs": [],
   "source": []
  },
  {
   "cell_type": "code",
   "execution_count": 16,
   "metadata": {},
   "outputs": [],
   "source": [
    "df.insert(0, 'pred', y_pred)"
   ]
  },
  {
   "cell_type": "code",
   "execution_count": 17,
   "metadata": {},
   "outputs": [
    {
     "data": {
      "text/html": [
       "<div>\n",
       "<style scoped>\n",
       "    .dataframe tbody tr th:only-of-type {\n",
       "        vertical-align: middle;\n",
       "    }\n",
       "\n",
       "    .dataframe tbody tr th {\n",
       "        vertical-align: top;\n",
       "    }\n",
       "\n",
       "    .dataframe thead th {\n",
       "        text-align: right;\n",
       "    }\n",
       "</style>\n",
       "<table border=\"1\" class=\"dataframe\">\n",
       "  <thead>\n",
       "    <tr style=\"text-align: right;\">\n",
       "      <th></th>\n",
       "      <th>pred</th>\n",
       "      <th>FECHA_ACTUALIZACION</th>\n",
       "      <th>ID_REGISTRO</th>\n",
       "      <th>ENTIDAD_REG</th>\n",
       "      <th>MUNICIPIO_REG</th>\n",
       "      <th>FECHA_DEFUNCION</th>\n",
       "      <th>FECHA_REGISTRO</th>\n",
       "      <th>SEXO</th>\n",
       "      <th>EDAD</th>\n",
       "    </tr>\n",
       "  </thead>\n",
       "  <tbody>\n",
       "    <tr>\n",
       "      <th>0</th>\n",
       "      <td>60.314768</td>\n",
       "      <td>09/11/2020</td>\n",
       "      <td>z2ab80</td>\n",
       "      <td>10</td>\n",
       "      <td>12</td>\n",
       "      <td>13/09/2020</td>\n",
       "      <td>16/09/2020</td>\n",
       "      <td>2</td>\n",
       "      <td>68</td>\n",
       "    </tr>\n",
       "    <tr>\n",
       "      <th>1</th>\n",
       "      <td>60.838672</td>\n",
       "      <td>09/11/2020</td>\n",
       "      <td>z4c512</td>\n",
       "      <td>21</td>\n",
       "      <td>74</td>\n",
       "      <td>19/08/2020</td>\n",
       "      <td>19/08/2020</td>\n",
       "      <td>2</td>\n",
       "      <td>64</td>\n",
       "    </tr>\n",
       "    <tr>\n",
       "      <th>2</th>\n",
       "      <td>60.183792</td>\n",
       "      <td>09/11/2020</td>\n",
       "      <td>z1b582</td>\n",
       "      <td>21</td>\n",
       "      <td>132</td>\n",
       "      <td>30/07/2020</td>\n",
       "      <td>31/07/2020</td>\n",
       "      <td>1</td>\n",
       "      <td>69</td>\n",
       "    </tr>\n",
       "    <tr>\n",
       "      <th>3</th>\n",
       "      <td>59.921840</td>\n",
       "      <td>09/11/2020</td>\n",
       "      <td>zz6f0e</td>\n",
       "      <td>21</td>\n",
       "      <td>194</td>\n",
       "      <td>02/09/2020</td>\n",
       "      <td>04/09/2020</td>\n",
       "      <td>2</td>\n",
       "      <td>71</td>\n",
       "    </tr>\n",
       "    <tr>\n",
       "      <th>4</th>\n",
       "      <td>66.208689</td>\n",
       "      <td>09/11/2020</td>\n",
       "      <td>z5359f</td>\n",
       "      <td>21</td>\n",
       "      <td>208</td>\n",
       "      <td>06/08/2020</td>\n",
       "      <td>07/08/2020</td>\n",
       "      <td>2</td>\n",
       "      <td>23</td>\n",
       "    </tr>\n",
       "  </tbody>\n",
       "</table>\n",
       "</div>"
      ],
      "text/plain": [
       "        pred FECHA_ACTUALIZACION ID_REGISTRO  ENTIDAD_REG  MUNICIPIO_REG  \\\n",
       "0  60.314768          09/11/2020      z2ab80           10             12   \n",
       "1  60.838672          09/11/2020      z4c512           21             74   \n",
       "2  60.183792          09/11/2020      z1b582           21            132   \n",
       "3  59.921840          09/11/2020      zz6f0e           21            194   \n",
       "4  66.208689          09/11/2020      z5359f           21            208   \n",
       "\n",
       "  FECHA_DEFUNCION FECHA_REGISTRO  SEXO  EDAD  \n",
       "0      13/09/2020     16/09/2020     2    68  \n",
       "1      19/08/2020     19/08/2020     2    64  \n",
       "2      30/07/2020     31/07/2020     1    69  \n",
       "3      02/09/2020     04/09/2020     2    71  \n",
       "4      06/08/2020     07/08/2020     2    23  "
      ]
     },
     "execution_count": 17,
     "metadata": {},
     "output_type": "execute_result"
    }
   ],
   "source": [
    "df.head()"
   ]
  },
  {
   "cell_type": "code",
   "execution_count": 25,
   "metadata": {},
   "outputs": [
    {
     "data": {
      "text/plain": [
       "<AxesSubplot:xlabel='ENTIDAD_REG', ylabel='EDAD'>"
      ]
     },
     "execution_count": 25,
     "metadata": {},
     "output_type": "execute_result"
    },
    {
     "data": {
      "image/png": "[encoded data removed]",
      "text/plain": [
       "<Figure size 432x288 with 1 Axes>"
      ]
     },
     "metadata": {
      "needs_background": "light"
     },
     "output_type": "display_data"
    }
   ],
   "source": [
    "sns.scatterplot(x='ENTIDAD_REG', y = 'EDAD', data = df)\n",
    "sns.scatterplot(x='FECHA_DEFUNCION', y = 'pred', data = df)"
   ]
  },
  {
   "cell_type": "code",
   "execution_count": 26,
   "metadata": {},
   "outputs": [
    {
     "data": {
      "text/plain": [
       "<AxesSubplot:xlabel='ENTIDAD_REG', ylabel='EDAD'>"
      ]
     },
     "execution_count": 26,
     "metadata": {},
     "output_type": "execute_result"
    },
    {
     "data": {
      "image/png": "[encoded data removed]",
      "text/plain": [
       "<Figure size 432x288 with 1 Axes>"
      ]
     },
     "metadata": {
      "needs_background": "light"
     },
     "output_type": "display_data"
    }
   ],
   "source": [
    "sns.scatterplot(x='ENTIDAD_REG', y = 'EDAD', data = df)\n",
    "sns.scatterplot(x='ENTIDAD_REG', y = 'pred', data = df)\n",
    "sns.lineplot(x='ENTIDAD_REG', y = 'pred', data = df)"
   ]
  },
  {
   "cell_type": "code",
   "execution_count": 23,
   "metadata": {},
   "outputs": [
    {
     "data": {
      "text/plain": [
       "<AxesSubplot:xlabel='FECHA_DEFUNCION', ylabel='EDAD'>"
      ]
     },
     "execution_count": 23,
     "metadata": {},
     "output_type": "execute_result"
    },
    {
     "data": {
      "image/png": "[encoded data removed]",
      "text/plain": [
       "<Figure size 432x288 with 1 Axes>"
      ]
     },
     "metadata": {
      "needs_background": "light"
     },
     "output_type": "display_data"
    }
   ],
   "source": [
    "sns.scatterplot(x='FECHA_DEFUNCION', y = 'EDAD', data = df)\n",
    "sns.scatterplot(x='FECHA_DEFUNCION', y = 'pred', data = df)\n",
    "sns.lineplot(x='FECHA_DEFUNCION', y = 'pred', data = df, color = 'green')"
   ]
  },
  {
   "cell_type": "code",
   "execution_count": 24,
   "metadata": {},
   "outputs": [
    {
     "data": {
      "text/plain": [
       "0.0012452707324546175"
      ]
     },
     "execution_count": 24,
     "metadata": {},
     "output_type": "execute_result"
    }
   ],
   "source": [
    "model.score(X=explicativas, y=objetivo)"
   ]
  },
  {
   "cell_type": "markdown",
   "metadata": {},
   "source": [
    "00124"
   ]
  }
 ],
 "metadata": {
  "kernelspec": {
   "display_name": "Python 3 (ipykernel)",
   "language": "python",
   "name": "python3"
  },
  "language_info": {
   "codemirror_mode": {
    "name": "ipython",
    "version": 3
   },
   "file_extension": ".py",
   "mimetype": "text/x-python",
   "name": "python",
   "nbconvert_exporter": "python",
   "pygments_lexer": "ipython3",
   "version": "3.11.4"
  }
 },
 "nbformat": 4,
 "nbformat_minor": 4
}
