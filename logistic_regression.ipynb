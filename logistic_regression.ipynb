{
 "cells": [
  {
   "cell_type": "code",
   "execution_count": 1,
   "id": "initial_id",
   "metadata": {
    "collapsed": true,
    "ExecuteTime": {
     "end_time": "2024-01-17T00:27:06.523519600Z",
     "start_time": "2024-01-17T00:27:03.353196300Z"
    }
   },
   "outputs": [],
   "source": [
    "import pandas as pd"
   ]
  },
  {
   "cell_type": "code",
   "execution_count": 3,
   "outputs": [],
   "source": [
    "df = pd.read_csv('data/Exceso_Mortalidad_MX_2022_Historico_Aleatorios.csv')"
   ],
   "metadata": {
    "collapsed": false,
    "ExecuteTime": {
     "end_time": "2024-01-17T00:27:29.006447400Z",
     "start_time": "2024-01-17T00:27:19.238054Z"
    }
   },
   "id": "c6f5fa44b48b81b1"
  },
  {
   "cell_type": "code",
   "execution_count": 7,
   "outputs": [
    {
     "data": {
      "text/plain": "  FECHA_ACTUALIZACION ID_REGISTRO  ENTIDAD_REG  MUNICIPIO_REG FECHA_DEFUNCION  \\\n0          2022-07-12    LV9YBXUC            2              4      2022-01-19   \n1          2022-06-09    P86KJO8V           11             15      2021-09-21   \n2          2022-12-21    A3YEKH13           24             25      2021-09-17   \n3          2022-06-09    0ASHGJED           15             51      2021-01-27   \n4          2022-07-12    9794NPMU            9             10      2020-05-29   \n\n  FECHA_DE_REGISTRO  SEXO  EDAD  POSIBLE-COVID19  \n0        2022-01-24     2    18                0  \n1        2021-09-22     1    70                0  \n2        2021-09-24     1    94                0  \n3        2021-01-29     1    70                0  \n4        2020-05-30     1    54                1  ",
      "text/html": "<div>\n<style scoped>\n    .dataframe tbody tr th:only-of-type {\n        vertical-align: middle;\n    }\n\n    .dataframe tbody tr th {\n        vertical-align: top;\n    }\n\n    .dataframe thead th {\n        text-align: right;\n    }\n</style>\n<table border=\"1\" class=\"dataframe\">\n  <thead>\n    <tr style=\"text-align: right;\">\n      <th></th>\n      <th>FECHA_ACTUALIZACION</th>\n      <th>ID_REGISTRO</th>\n      <th>ENTIDAD_REG</th>\n      <th>MUNICIPIO_REG</th>\n      <th>FECHA_DEFUNCION</th>\n      <th>FECHA_DE_REGISTRO</th>\n      <th>SEXO</th>\n      <th>EDAD</th>\n      <th>POSIBLE-COVID19</th>\n    </tr>\n  </thead>\n  <tbody>\n    <tr>\n      <th>0</th>\n      <td>2022-07-12</td>\n      <td>LV9YBXUC</td>\n      <td>2</td>\n      <td>4</td>\n      <td>2022-01-19</td>\n      <td>2022-01-24</td>\n      <td>2</td>\n      <td>18</td>\n      <td>0</td>\n    </tr>\n    <tr>\n      <th>1</th>\n      <td>2022-06-09</td>\n      <td>P86KJO8V</td>\n      <td>11</td>\n      <td>15</td>\n      <td>2021-09-21</td>\n      <td>2021-09-22</td>\n      <td>1</td>\n      <td>70</td>\n      <td>0</td>\n    </tr>\n    <tr>\n      <th>2</th>\n      <td>2022-12-21</td>\n      <td>A3YEKH13</td>\n      <td>24</td>\n      <td>25</td>\n      <td>2021-09-17</td>\n      <td>2021-09-24</td>\n      <td>1</td>\n      <td>94</td>\n      <td>0</td>\n    </tr>\n    <tr>\n      <th>3</th>\n      <td>2022-06-09</td>\n      <td>0ASHGJED</td>\n      <td>15</td>\n      <td>51</td>\n      <td>2021-01-27</td>\n      <td>2021-01-29</td>\n      <td>1</td>\n      <td>70</td>\n      <td>0</td>\n    </tr>\n    <tr>\n      <th>4</th>\n      <td>2022-07-12</td>\n      <td>9794NPMU</td>\n      <td>9</td>\n      <td>10</td>\n      <td>2020-05-29</td>\n      <td>2020-05-30</td>\n      <td>1</td>\n      <td>54</td>\n      <td>1</td>\n    </tr>\n  </tbody>\n</table>\n</div>"
     },
     "execution_count": 7,
     "metadata": {},
     "output_type": "execute_result"
    }
   ],
   "source": [
    "df.head()"
   ],
   "metadata": {
    "collapsed": false,
    "ExecuteTime": {
     "end_time": "2024-01-17T00:27:41.376904Z",
     "start_time": "2024-01-17T00:27:41.324761500Z"
    }
   },
   "id": "27212682aba51eea"
  }
 ],
 "metadata": {
  "kernelspec": {
   "display_name": "Python 3",
   "language": "python",
   "name": "python3"
  },
  "language_info": {
   "codemirror_mode": {
    "name": "ipython",
    "version": 2
   },
   "file_extension": ".py",
   "mimetype": "text/x-python",
   "name": "python",
   "nbconvert_exporter": "python",
   "pygments_lexer": "ipython2",
   "version": "2.7.6"
  }
 },
 "nbformat": 4,
 "nbformat_minor": 5
}
