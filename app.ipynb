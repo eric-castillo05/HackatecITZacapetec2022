{
 "cells": [
  {
   "cell_type": "markdown",
   "metadata": {},
   "source": [
    "# Crear los dataframes"
   ]
  },
  {
   "cell_type": "code",
   "execution_count": 2,
   "metadata": {},
   "outputs": [],
   "source": [
    "import pandas as pd"
   ]
  },
  {
   "cell_type": "code",
   "execution_count": 3,
   "metadata": {},
   "outputs": [],
   "source": [
    "df1 = pd.read_csv('data\\Exceso_Mortalidad_MX_2022_Historico\\Exceso_Mortalidad_MX_2022_SE09\\DDAAxsom2022SE09.csv')\n",
    "df2 = pd.read_csv('data\\Exceso_Mortalidad_MX_2022_Historico\\Exceso_Mortalidad_MX_2022_SE13\\DDAAxsom2022SE13.csv')\n",
    "df3 = pd.read_csv('data\\Exceso_Mortalidad_MX_2022_Historico\\Exceso_Mortalidad_MX_2022_SE19\\DDAAxsom2022SE19.csv')\n",
    "df4 = pd.read_csv('data\\Exceso_Mortalidad_MX_2022_Historico\\Exceso_Mortalidad_MX_2022_SE24\\DDAAxsom2022SE24.csv')\n",
    "df5 = pd.read_csv('data\\Exceso_Mortalidad_MX_2022_Historico\\Exceso_Mortalidad_MX_2022_SE28\\DDAAxsom2022SE28.csv')\n",
    "df6 = pd.read_csv('data\\Exceso_Mortalidad_MX_2022_Historico\\Exceso_Mortalidad_MX_2022_SE31\\DDAAxsom2022SE31.csv')\n",
    "df7 = pd.read_csv('data\\Exceso_Mortalidad_MX_2022_Historico\\Exceso_Mortalidad_MX_2022_SE36\\DDAAxsom2022SE36.csv')\n",
    "df8 = pd.read_csv('data\\Exceso_Mortalidad_MX_2022_Historico\\Exceso_Mortalidad_MX_2022_SE41\\DDAAxsom2022SE41.csv')"
   ]
  },
  {
   "cell_type": "markdown",
   "metadata": {},
   "source": [
    "# Concantenar los dataframes"
   ]
  },
  {
   "cell_type": "code",
   "execution_count": 4,
   "metadata": {},
   "outputs": [],
   "source": [
    "df = pd.concat([df1, df2[1:], df3[1:], df4[1:], df5[1:], df6[1:], df7[1:], df8[1:]], axis=0)"
   ]
  },
  {
   "cell_type": "markdown",
   "metadata": {},
   "source": [
    "## Guardar el dataframe concatenado (opcional)"
   ]
  },
  {
   "cell_type": "code",
   "execution_count": 8,
   "metadata": {},
   "outputs": [],
   "source": [
    "df.to_csv('data\\\\Exceso_Mortalidad_MX_2022_Historico.csv')"
   ]
  },
  {
   "cell_type": "markdown",
   "metadata": {},
   "source": [
    "## Si se guardo el dataframe abrirlo y leerlo"
   ]
  },
  {
   "cell_type": "code",
   "execution_count": null,
   "metadata": {},
   "outputs": [],
   "source": [
    "df = pd.read_csv('data\\\\Exceso_Mortalidad_MX_2022_Historico.csv')"
   ]
  },
  {
   "cell_type": "code",
   "execution_count": 5,
   "metadata": {},
   "outputs": [
    {
     "data": {
      "text/plain": [
       "<bound method NDFrame.sample of         FECHA_ACTUALIZACION ID_REGISTRO  ENTIDAD_REG  MUNICIPIO_REG  \\\n",
       "0                2022-05-30    OWC3JCYY            9             15   \n",
       "1                2022-05-30    D1EO9N9H           17              7   \n",
       "2                2022-05-30    SVT14RZY           28             43   \n",
       "3                2022-05-30    TBLGFT3O           28             22   \n",
       "4                2022-05-30    5GWD5APB           12             58   \n",
       "...                     ...         ...          ...            ...   \n",
       "2830439          2022-12-21    V5ETEVA6           21            217   \n",
       "2830440          2022-12-21    XVFI3TVB           21            217   \n",
       "2830441          2022-12-21    S0JB2MO5           21            217   \n",
       "2830442          2022-12-21    FKVVMSO5           21            217   \n",
       "2830443          2022-12-21    2QAAMSJY           21            217   \n",
       "\n",
       "        FECHA_DEFUNCION FECHA_DE_REGISTRO  SEXO  EDAD  POSIBLE-COVID19  \n",
       "0            2020-04-17        2020-04-18     2    75                0  \n",
       "1            2020-09-28        2020-09-28     2    73                0  \n",
       "2            2020-10-08        2020-10-12     2    75                0  \n",
       "3            2020-06-14        2020-08-04     2    47                1  \n",
       "4            2020-05-08        2020-06-01     1    89                0  \n",
       "...                 ...               ...   ...   ...              ...  \n",
       "2830439      2020-02-09        2020-02-10     2    46                0  \n",
       "2830440      2020-02-17        2020-02-18     2    84                0  \n",
       "2830441      2020-07-26        2020-07-28     2    75                0  \n",
       "2830442      2021-04-01        2021-04-02     2    85                0  \n",
       "2830443      2021-06-02        2021-06-03     1    72                0  \n",
       "\n",
       "[20752371 rows x 9 columns]>"
      ]
     },
     "execution_count": 5,
     "metadata": {},
     "output_type": "execute_result"
    }
   ],
   "source": [
    "df.sample"
   ]
  },
  {
   "cell_type": "markdown",
   "metadata": {},
   "source": [
    "# Crear una muestra del archivo original"
   ]
  },
  {
   "cell_type": "code",
   "execution_count": 10,
   "metadata": {},
   "outputs": [],
   "source": [
    "# Calcula el tamaño de cada fila en bytes\n",
    "row_size = df.memory_usage(index=True, deep=True).sum() / len(df)\n",
    "\n",
    "# Calcula cuántas filas caben en 500 MB\n",
    "n_rows = int(round((500 * 1024 * 1024) / row_size))\n",
    "\n",
    "# Toma una muestra aleatoria del DataFrame\n",
    "sample = df.sample(n=n_rows)\n",
    "\n",
    "# Guarda la muestra en un archivo CSV\n",
    "sample.to_csv('data\\\\Exceso_Mortalidad_MX_2022_Historico_Alteatorios.csv', index=False)\n"
   ]
  },
  {
   "cell_type": "markdown",
   "metadata": {},
   "source": [
    "# Leer el nuevo archivo y limpiarlo"
   ]
  },
  {
   "cell_type": "code",
   "execution_count": 11,
   "metadata": {},
   "outputs": [],
   "source": [
    "df = pd.read_csv('data\\\\Exceso_Mortalidad_MX_2022_Historico_Alteatorios.csv')"
   ]
  },
  {
   "cell_type": "code",
   "execution_count": 13,
   "metadata": {},
   "outputs": [
    {
     "data": {
      "text/plain": [
       "<bound method NDFrame.sample of         FECHA_ACTUALIZACION ID_REGISTRO  ENTIDAD_REG  MUNICIPIO_REG  \\\n",
       "0                2022-07-12    LV9YBXUC            2              4   \n",
       "1                2022-06-09    P86KJO8V           11             15   \n",
       "2                2022-12-21    A3YEKH13           24             25   \n",
       "3                2022-06-09    0ASHGJED           15             51   \n",
       "4                2022-07-12    9794NPMU            9             10   \n",
       "...                     ...         ...          ...            ...   \n",
       "1669702          2022-05-30    4LDB0E6Z            2              1   \n",
       "1669703          2022-06-09    59IJTKK1           11             20   \n",
       "1669704          2022-09-19    FAMG4M0V            7             40   \n",
       "1669705          2022-08-02    5S87DUQ0           14              6   \n",
       "1669706          2022-06-09    Z2JBHAM7           14             39   \n",
       "\n",
       "        FECHA_DEFUNCION FECHA_DE_REGISTRO  SEXO  EDAD  POSIBLE-COVID19  \n",
       "0            2022-01-19        2022-01-24     2    18                0  \n",
       "1            2021-09-21        2021-09-22     1    70                0  \n",
       "2            2021-09-17        2021-09-24     1    94                0  \n",
       "3            2021-01-27        2021-01-29     1    70                0  \n",
       "4            2020-05-29        2020-05-30     1    54                1  \n",
       "...                 ...               ...   ...   ...              ...  \n",
       "1669702      2021-11-22        2022-02-28     2   999                0  \n",
       "1669703      2021-10-19        2021-10-20     2    77                1  \n",
       "1669704      2020-01-18        2020-01-18     2    42                0  \n",
       "1669705      2020-07-16        2020-07-17     2    50                0  \n",
       "1669706      2020-03-07        2020-03-10     2    53                0  \n",
       "\n",
       "[1669707 rows x 9 columns]>"
      ]
     },
     "execution_count": 13,
     "metadata": {},
     "output_type": "execute_result"
    }
   ],
   "source": [
    "df.sample"
   ]
  },
  {
   "cell_type": "markdown",
   "metadata": {},
   "source": [
    "# Limpiar los datos"
   ]
  },
  {
   "cell_type": "markdown",
   "metadata": {},
   "source": [
    "## Revisamos si hay campos vacios"
   ]
  },
  {
   "cell_type": "code",
   "execution_count": 16,
   "metadata": {},
   "outputs": [
    {
     "data": {
      "text/plain": [
       "FECHA_ACTUALIZACION    False\n",
       "ID_REGISTRO            False\n",
       "ENTIDAD_REG            False\n",
       "MUNICIPIO_REG          False\n",
       "FECHA_DEFUNCION        False\n",
       "FECHA_DE_REGISTRO      False\n",
       "SEXO                   False\n",
       "EDAD                   False\n",
       "POSIBLE-COVID19        False\n",
       "dtype: bool"
      ]
     },
     "execution_count": 16,
     "metadata": {},
     "output_type": "execute_result"
    }
   ],
   "source": [
    "df.isna().any() "
   ]
  },
  {
   "cell_type": "markdown",
   "metadata": {},
   "source": [
    "## Arreglar las columnas de fecha"
   ]
  },
  {
   "cell_type": "code",
   "execution_count": 21,
   "metadata": {},
   "outputs": [],
   "source": [
    "df['FECHA_ACTUALIZACION'] = pd.to_datetime(df['FECHA_ACTUALIZACION'])\n",
    "df['FECHA_DE_REGISTRO'] = pd.to_datetime(df['FECHA_DE_REGISTRO'])\n",
    "df['FECHA_DEFUNCION'] = pd.to_datetime(df['FECHA_DEFUNCION'])"
   ]
  },
  {
   "cell_type": "code",
   "execution_count": null,
   "metadata": {},
   "outputs": [],
   "source": []
  }
 ],
 "metadata": {
  "kernelspec": {
   "display_name": "Python 3 (ipykernel)",
   "language": "python",
   "name": "python3"
  },
  "language_info": {
   "codemirror_mode": {
    "name": "ipython",
    "version": 3
   },
   "file_extension": ".py",
   "mimetype": "text/x-python",
   "name": "python",
   "nbconvert_exporter": "python",
   "pygments_lexer": "ipython3",
   "version": "3.11.4"
  }
 },
 "nbformat": 4,
 "nbformat_minor": 2
}
